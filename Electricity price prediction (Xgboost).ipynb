{
 "cells": [
  {
   "cell_type": "code",
   "execution_count": 1,
   "metadata": {},
   "outputs": [],
   "source": [
    "# loading all the packages\n",
    "import pandas as pd\n",
    "import numpy as np\n",
    "import seaborn as sns\n",
    "import matplotlib.pyplot as plt"
   ]
  },
  {
   "cell_type": "code",
   "execution_count": 2,
   "metadata": {},
   "outputs": [],
   "source": [
    "# Reading an excel file and storing it in a dataframe(df)\n",
    "train = pd.read_excel(r\"C:\\Users\\saik0\\Downloads\\AI-Machine Learning Exam\\Training Set.xlsx\", sheet_name = 'Sheet 1' )\n",
    "test = pd.read_excel(r\"C:\\Users\\saik0\\Downloads\\AI-Machine Learning Exam\\Test Set.xlsx\", sheet_name = 'Sheet 1')"
   ]
  },
  {
   "cell_type": "code",
   "execution_count": 3,
   "metadata": {},
   "outputs": [
    {
     "data": {
      "text/html": [
       "<div>\n",
       "<style scoped>\n",
       "    .dataframe tbody tr th:only-of-type {\n",
       "        vertical-align: middle;\n",
       "    }\n",
       "\n",
       "    .dataframe tbody tr th {\n",
       "        vertical-align: top;\n",
       "    }\n",
       "\n",
       "    .dataframe thead th {\n",
       "        text-align: right;\n",
       "    }\n",
       "</style>\n",
       "<table border=\"1\" class=\"dataframe\">\n",
       "  <thead>\n",
       "    <tr style=\"text-align: right;\">\n",
       "      <th></th>\n",
       "      <th>Date</th>\n",
       "      <th>Hour</th>\n",
       "      <th>Weekday</th>\n",
       "      <th>Is Working Day</th>\n",
       "      <th>Previous Hour Price</th>\n",
       "      <th>SDSH DAP</th>\n",
       "      <th>SDSH Volume</th>\n",
       "      <th>Sgn0 VolumeDir</th>\n",
       "      <th>P24HA Price</th>\n",
       "      <th>PDSH Price</th>\n",
       "      <th>PWSH Price</th>\n",
       "      <th>PWA Price</th>\n",
       "      <th>target</th>\n",
       "    </tr>\n",
       "  </thead>\n",
       "  <tbody>\n",
       "    <tr>\n",
       "      <th>0</th>\n",
       "      <td>2020-01-08 00:00:00</td>\n",
       "      <td>1</td>\n",
       "      <td>4</td>\n",
       "      <td>7</td>\n",
       "      <td>2400.41</td>\n",
       "      <td>2479.45</td>\n",
       "      <td>1383.7</td>\n",
       "      <td>-100.7</td>\n",
       "      <td>3654.911667</td>\n",
       "      <td>2473.00</td>\n",
       "      <td>1837.47</td>\n",
       "      <td>2296.059524</td>\n",
       "      <td>2475.68</td>\n",
       "    </tr>\n",
       "    <tr>\n",
       "      <th>1</th>\n",
       "      <td>2020-01-08 01:00:00</td>\n",
       "      <td>2</td>\n",
       "      <td>4</td>\n",
       "      <td>7</td>\n",
       "      <td>2475.68</td>\n",
       "      <td>2494.00</td>\n",
       "      <td>1339.3</td>\n",
       "      <td>-44.4</td>\n",
       "      <td>3655.023333</td>\n",
       "      <td>2459.38</td>\n",
       "      <td>1434.83</td>\n",
       "      <td>2299.858393</td>\n",
       "      <td>2484.40</td>\n",
       "    </tr>\n",
       "    <tr>\n",
       "      <th>2</th>\n",
       "      <td>2020-01-08 02:00:00</td>\n",
       "      <td>3</td>\n",
       "      <td>4</td>\n",
       "      <td>7</td>\n",
       "      <td>2484.40</td>\n",
       "      <td>2474.85</td>\n",
       "      <td>1309.4</td>\n",
       "      <td>-29.9</td>\n",
       "      <td>3656.065833</td>\n",
       "      <td>2370.61</td>\n",
       "      <td>1498.33</td>\n",
       "      <td>2306.105833</td>\n",
       "      <td>2486.89</td>\n",
       "    </tr>\n",
       "    <tr>\n",
       "      <th>3</th>\n",
       "      <td>2020-01-08 03:00:00</td>\n",
       "      <td>4</td>\n",
       "      <td>4</td>\n",
       "      <td>7</td>\n",
       "      <td>2486.89</td>\n",
       "      <td>2478.66</td>\n",
       "      <td>1294.7</td>\n",
       "      <td>-14.7</td>\n",
       "      <td>3660.910833</td>\n",
       "      <td>2021.43</td>\n",
       "      <td>1462.42</td>\n",
       "      <td>2311.990119</td>\n",
       "      <td>2533.42</td>\n",
       "    </tr>\n",
       "    <tr>\n",
       "      <th>4</th>\n",
       "      <td>2020-01-08 04:00:00</td>\n",
       "      <td>5</td>\n",
       "      <td>4</td>\n",
       "      <td>7</td>\n",
       "      <td>2533.42</td>\n",
       "      <td>2809.63</td>\n",
       "      <td>1361.4</td>\n",
       "      <td>66.7</td>\n",
       "      <td>3682.243750</td>\n",
       "      <td>2176.48</td>\n",
       "      <td>1455.85</td>\n",
       "      <td>2318.365119</td>\n",
       "      <td>2850.75</td>\n",
       "    </tr>\n",
       "  </tbody>\n",
       "</table>\n",
       "</div>"
      ],
      "text/plain": [
       "                 Date  Hour  Weekday  Is Working Day  Previous Hour Price  \\\n",
       "0 2020-01-08 00:00:00     1        4               7              2400.41   \n",
       "1 2020-01-08 01:00:00     2        4               7              2475.68   \n",
       "2 2020-01-08 02:00:00     3        4               7              2484.40   \n",
       "3 2020-01-08 03:00:00     4        4               7              2486.89   \n",
       "4 2020-01-08 04:00:00     5        4               7              2533.42   \n",
       "\n",
       "   SDSH DAP  SDSH Volume  Sgn0 VolumeDir  P24HA Price  PDSH Price  PWSH Price  \\\n",
       "0   2479.45       1383.7          -100.7  3654.911667     2473.00     1837.47   \n",
       "1   2494.00       1339.3           -44.4  3655.023333     2459.38     1434.83   \n",
       "2   2474.85       1309.4           -29.9  3656.065833     2370.61     1498.33   \n",
       "3   2478.66       1294.7           -14.7  3660.910833     2021.43     1462.42   \n",
       "4   2809.63       1361.4            66.7  3682.243750     2176.48     1455.85   \n",
       "\n",
       "     PWA Price   target  \n",
       "0  2296.059524  2475.68  \n",
       "1  2299.858393  2484.40  \n",
       "2  2306.105833  2486.89  \n",
       "3  2311.990119  2533.42  \n",
       "4  2318.365119  2850.75  "
      ]
     },
     "execution_count": 3,
     "metadata": {},
     "output_type": "execute_result"
    }
   ],
   "source": [
    "# checking first few rows of \n",
    "train.head()"
   ]
  },
  {
   "cell_type": "markdown",
   "metadata": {},
   "source": [
    "## 1. EDA\n",
    "\n",
    "Exploring the data set to understand about the data"
   ]
  },
  {
   "cell_type": "code",
   "execution_count": 4,
   "metadata": {},
   "outputs": [
    {
     "data": {
      "text/html": [
       "<div>\n",
       "<style scoped>\n",
       "    .dataframe tbody tr th:only-of-type {\n",
       "        vertical-align: middle;\n",
       "    }\n",
       "\n",
       "    .dataframe tbody tr th {\n",
       "        vertical-align: top;\n",
       "    }\n",
       "\n",
       "    .dataframe thead th {\n",
       "        text-align: right;\n",
       "    }\n",
       "</style>\n",
       "<table border=\"1\" class=\"dataframe\">\n",
       "  <thead>\n",
       "    <tr style=\"text-align: right;\">\n",
       "      <th></th>\n",
       "      <th>Hour</th>\n",
       "      <th>Weekday</th>\n",
       "      <th>Is Working Day</th>\n",
       "      <th>Previous Hour Price</th>\n",
       "      <th>SDSH DAP</th>\n",
       "      <th>SDSH Volume</th>\n",
       "      <th>Sgn0 VolumeDir</th>\n",
       "      <th>P24HA Price</th>\n",
       "      <th>PDSH Price</th>\n",
       "      <th>PWSH Price</th>\n",
       "      <th>PWA Price</th>\n",
       "      <th>target</th>\n",
       "    </tr>\n",
       "  </thead>\n",
       "  <tbody>\n",
       "    <tr>\n",
       "      <th>count</th>\n",
       "      <td>7584.000000</td>\n",
       "      <td>7584.000000</td>\n",
       "      <td>7584.000000</td>\n",
       "      <td>7584.000000</td>\n",
       "      <td>7584.000000</td>\n",
       "      <td>7584.000000</td>\n",
       "      <td>7584.000000</td>\n",
       "      <td>7584.000000</td>\n",
       "      <td>7584.000000</td>\n",
       "      <td>7584.000000</td>\n",
       "      <td>7584.000000</td>\n",
       "      <td>7584.000000</td>\n",
       "    </tr>\n",
       "    <tr>\n",
       "      <th>mean</th>\n",
       "      <td>12.500000</td>\n",
       "      <td>4.000000</td>\n",
       "      <td>4.572785</td>\n",
       "      <td>2429.484570</td>\n",
       "      <td>2327.516847</td>\n",
       "      <td>1587.817563</td>\n",
       "      <td>0.017128</td>\n",
       "      <td>2433.184528</td>\n",
       "      <td>2426.827399</td>\n",
       "      <td>2464.853534</td>\n",
       "      <td>2442.328138</td>\n",
       "      <td>2429.366103</td>\n",
       "    </tr>\n",
       "    <tr>\n",
       "      <th>std</th>\n",
       "      <td>6.922643</td>\n",
       "      <td>1.996965</td>\n",
       "      <td>1.390982</td>\n",
       "      <td>1590.715120</td>\n",
       "      <td>1419.109180</td>\n",
       "      <td>213.112880</td>\n",
       "      <td>73.092988</td>\n",
       "      <td>1125.325853</td>\n",
       "      <td>1564.734896</td>\n",
       "      <td>1605.184755</td>\n",
       "      <td>870.873043</td>\n",
       "      <td>1590.750740</td>\n",
       "    </tr>\n",
       "    <tr>\n",
       "      <th>min</th>\n",
       "      <td>1.000000</td>\n",
       "      <td>1.000000</td>\n",
       "      <td>1.000000</td>\n",
       "      <td>124.160000</td>\n",
       "      <td>87.380000</td>\n",
       "      <td>1079.800000</td>\n",
       "      <td>-465.200000</td>\n",
       "      <td>1145.512917</td>\n",
       "      <td>124.160000</td>\n",
       "      <td>124.160000</td>\n",
       "      <td>1409.440833</td>\n",
       "      <td>124.160000</td>\n",
       "    </tr>\n",
       "    <tr>\n",
       "      <th>25%</th>\n",
       "      <td>6.750000</td>\n",
       "      <td>2.000000</td>\n",
       "      <td>4.000000</td>\n",
       "      <td>1664.395000</td>\n",
       "      <td>1651.850000</td>\n",
       "      <td>1400.975000</td>\n",
       "      <td>-50.425000</td>\n",
       "      <td>1722.828854</td>\n",
       "      <td>1666.838500</td>\n",
       "      <td>1676.697500</td>\n",
       "      <td>1813.919442</td>\n",
       "      <td>1664.347500</td>\n",
       "    </tr>\n",
       "    <tr>\n",
       "      <th>50%</th>\n",
       "      <td>12.500000</td>\n",
       "      <td>4.000000</td>\n",
       "      <td>5.000000</td>\n",
       "      <td>1945.810000</td>\n",
       "      <td>1922.320000</td>\n",
       "      <td>1583.300000</td>\n",
       "      <td>-16.200000</td>\n",
       "      <td>2029.105417</td>\n",
       "      <td>1951.465000</td>\n",
       "      <td>1967.165000</td>\n",
       "      <td>2060.332396</td>\n",
       "      <td>1945.700000</td>\n",
       "    </tr>\n",
       "    <tr>\n",
       "      <th>75%</th>\n",
       "      <td>18.250000</td>\n",
       "      <td>6.000000</td>\n",
       "      <td>5.000000</td>\n",
       "      <td>2568.547500</td>\n",
       "      <td>2507.287500</td>\n",
       "      <td>1757.625000</td>\n",
       "      <td>43.300000</td>\n",
       "      <td>2725.680729</td>\n",
       "      <td>2595.940000</td>\n",
       "      <td>2603.567500</td>\n",
       "      <td>2823.226385</td>\n",
       "      <td>2568.547500</td>\n",
       "    </tr>\n",
       "    <tr>\n",
       "      <th>max</th>\n",
       "      <td>24.000000</td>\n",
       "      <td>7.000000</td>\n",
       "      <td>8.000000</td>\n",
       "      <td>10117.855409</td>\n",
       "      <td>9548.439791</td>\n",
       "      <td>2192.300000</td>\n",
       "      <td>661.200000</td>\n",
       "      <td>7691.478347</td>\n",
       "      <td>10117.855409</td>\n",
       "      <td>10117.855409</td>\n",
       "      <td>5520.089733</td>\n",
       "      <td>10117.855409</td>\n",
       "    </tr>\n",
       "  </tbody>\n",
       "</table>\n",
       "</div>"
      ],
      "text/plain": [
       "              Hour      Weekday  Is Working Day  Previous Hour Price  \\\n",
       "count  7584.000000  7584.000000     7584.000000          7584.000000   \n",
       "mean     12.500000     4.000000        4.572785          2429.484570   \n",
       "std       6.922643     1.996965        1.390982          1590.715120   \n",
       "min       1.000000     1.000000        1.000000           124.160000   \n",
       "25%       6.750000     2.000000        4.000000          1664.395000   \n",
       "50%      12.500000     4.000000        5.000000          1945.810000   \n",
       "75%      18.250000     6.000000        5.000000          2568.547500   \n",
       "max      24.000000     7.000000        8.000000         10117.855409   \n",
       "\n",
       "          SDSH DAP  SDSH Volume  Sgn0 VolumeDir  P24HA Price    PDSH Price  \\\n",
       "count  7584.000000  7584.000000     7584.000000  7584.000000   7584.000000   \n",
       "mean   2327.516847  1587.817563        0.017128  2433.184528   2426.827399   \n",
       "std    1419.109180   213.112880       73.092988  1125.325853   1564.734896   \n",
       "min      87.380000  1079.800000     -465.200000  1145.512917    124.160000   \n",
       "25%    1651.850000  1400.975000      -50.425000  1722.828854   1666.838500   \n",
       "50%    1922.320000  1583.300000      -16.200000  2029.105417   1951.465000   \n",
       "75%    2507.287500  1757.625000       43.300000  2725.680729   2595.940000   \n",
       "max    9548.439791  2192.300000      661.200000  7691.478347  10117.855409   \n",
       "\n",
       "         PWSH Price    PWA Price        target  \n",
       "count   7584.000000  7584.000000   7584.000000  \n",
       "mean    2464.853534  2442.328138   2429.366103  \n",
       "std     1605.184755   870.873043   1590.750740  \n",
       "min      124.160000  1409.440833    124.160000  \n",
       "25%     1676.697500  1813.919442   1664.347500  \n",
       "50%     1967.165000  2060.332396   1945.700000  \n",
       "75%     2603.567500  2823.226385   2568.547500  \n",
       "max    10117.855409  5520.089733  10117.855409  "
      ]
     },
     "execution_count": 4,
     "metadata": {},
     "output_type": "execute_result"
    }
   ],
   "source": [
    "# looking at statistical values\n",
    "train.describe()"
   ]
  },
  {
   "cell_type": "code",
   "execution_count": 5,
   "metadata": {},
   "outputs": [
    {
     "name": "stdout",
     "output_type": "stream",
     "text": [
      "<class 'pandas.core.frame.DataFrame'>\n",
      "RangeIndex: 7584 entries, 0 to 7583\n",
      "Data columns (total 13 columns):\n",
      "Date                   7584 non-null datetime64[ns]\n",
      "Hour                   7584 non-null int64\n",
      "Weekday                7584 non-null int64\n",
      "Is Working Day         7584 non-null int64\n",
      "Previous Hour Price    7584 non-null float64\n",
      "SDSH DAP               7584 non-null float64\n",
      "SDSH Volume            7584 non-null float64\n",
      "Sgn0 VolumeDir         7584 non-null float64\n",
      "P24HA Price            7584 non-null float64\n",
      "PDSH Price             7584 non-null float64\n",
      "PWSH Price             7584 non-null float64\n",
      "PWA Price              7584 non-null float64\n",
      "target                 7584 non-null float64\n",
      "dtypes: datetime64[ns](1), float64(9), int64(3)\n",
      "memory usage: 770.4 KB\n"
     ]
    }
   ],
   "source": [
    "train.info()"
   ]
  },
  {
   "cell_type": "code",
   "execution_count": 6,
   "metadata": {},
   "outputs": [
    {
     "data": {
      "text/plain": [
       "Date                   0\n",
       "Hour                   0\n",
       "Weekday                0\n",
       "Is Working Day         0\n",
       "Previous Hour Price    0\n",
       "SDSH DAP               0\n",
       "SDSH Volume            0\n",
       "Sgn0 VolumeDir         0\n",
       "P24HA Price            0\n",
       "PDSH Price             0\n",
       "PWSH Price             0\n",
       "PWA Price              0\n",
       "target                 0\n",
       "dtype: int64"
      ]
     },
     "execution_count": 6,
     "metadata": {},
     "output_type": "execute_result"
    }
   ],
   "source": [
    "# checking for null values \n",
    "train.isnull().sum()"
   ]
  },
  {
   "cell_type": "markdown",
   "metadata": {},
   "source": [
    "# Training and validating "
   ]
  },
  {
   "cell_type": "code",
   "execution_count": 7,
   "metadata": {},
   "outputs": [],
   "source": [
    "# Diving into feature (X) and target (y) matrices\n",
    "X = train.drop(['Date','target'], axis = 1) # feature_matrix\n",
    "y = train['target']"
   ]
  },
  {
   "cell_type": "code",
   "execution_count": 8,
   "metadata": {},
   "outputs": [
    {
     "data": {
      "text/plain": [
       "array([[<matplotlib.axes._subplots.AxesSubplot object at 0x000001CC29107CA0>,\n",
       "        <matplotlib.axes._subplots.AxesSubplot object at 0x000001CC28DBEEE0>,\n",
       "        <matplotlib.axes._subplots.AxesSubplot object at 0x000001CC290F3910>],\n",
       "       [<matplotlib.axes._subplots.AxesSubplot object at 0x000001CC29017F70>,\n",
       "        <matplotlib.axes._subplots.AxesSubplot object at 0x000001CC2913CA00>,\n",
       "        <matplotlib.axes._subplots.AxesSubplot object at 0x000001CC2916E280>],\n",
       "       [<matplotlib.axes._subplots.AxesSubplot object at 0x000001CC2903C190>,\n",
       "        <matplotlib.axes._subplots.AxesSubplot object at 0x000001CC29064A30>,\n",
       "        <matplotlib.axes._subplots.AxesSubplot object at 0x000001CC290B6B80>],\n",
       "       [<matplotlib.axes._subplots.AxesSubplot object at 0x000001CC290EB400>,\n",
       "        <matplotlib.axes._subplots.AxesSubplot object at 0x000001CC2B194C70>,\n",
       "        <matplotlib.axes._subplots.AxesSubplot object at 0x000001CC2B1D62E0>]],\n",
       "      dtype=object)"
      ]
     },
     "execution_count": 8,
     "metadata": {},
     "output_type": "execute_result"
    },
    {
     "data": {
      "image/png": "[encoded data removed]",
      "text/plain": [
       "<Figure size 720x864 with 12 Axes>"
      ]
     },
     "metadata": {
      "needs_background": "light"
     },
     "output_type": "display_data"
    }
   ],
   "source": [
    "X.hist(figsize = (10,12))"
   ]
  },
  {
   "cell_type": "code",
   "execution_count": 9,
   "metadata": {},
   "outputs": [
    {
     "data": {
      "image/png": "[encoded data removed]",
      "text/plain": [
       "<Figure size 864x720 with 2 Axes>"
      ]
     },
     "metadata": {
      "needs_background": "light"
     },
     "output_type": "display_data"
    }
   ],
   "source": [
    "# Using Pearson Correlationcorrelation \n",
    "plt.figure(figsize=(12,10))\n",
    "features_correlation = X.corr()\n",
    "sns.heatmap(features_correlation, annot=True)\n",
    "plt.show()"
   ]
  },
  {
   "cell_type": "code",
   "execution_count": 10,
   "metadata": {},
   "outputs": [
    {
     "data": {
      "text/plain": [
       "((6067, 11), (1517, 11))"
      ]
     },
     "execution_count": 10,
     "metadata": {},
     "output_type": "execute_result"
    }
   ],
   "source": [
    "# separate dataset into train and validation set\n",
    "from sklearn.model_selection import train_test_split\n",
    "\n",
    "X_train, X_val, y_train, y_val  = train_test_split(X, y, test_size = 0.2, random_state = 0)\n",
    "X_train.shape, X_val.shape"
   ]
  },
  {
   "cell_type": "code",
   "execution_count": 11,
   "metadata": {},
   "outputs": [
    {
     "data": {
      "text/plain": [
       "XGBRegressor(base_score=0.5, booster='gbtree', colsample_bylevel=1,\n",
       "             colsample_bynode=1, colsample_bytree=1, gamma=0, gpu_id=-1,\n",
       "             importance_type='gain', interaction_constraints='',\n",
       "             learning_rate=0.300000012, max_delta_step=0, max_depth=6,\n",
       "             min_child_weight=1, missing=nan, monotone_constraints='()',\n",
       "             n_estimators=100, n_jobs=4, num_parallel_tree=1, random_state=0,\n",
       "             reg_alpha=0, reg_lambda=1, scale_pos_weight=1, subsample=1,\n",
       "             tree_method='exact', validate_parameters=1, verbosity=None)"
      ]
     },
     "execution_count": 11,
     "metadata": {},
     "output_type": "execute_result"
    }
   ],
   "source": [
    "from xgboost import XGBRegressor, plot_importance \n",
    "xgb_model1 = XGBRegressor()\n",
    "xgb_model1.fit(X_train, y_train, verbose=False)"
   ]
  },
  {
   "cell_type": "markdown",
   "metadata": {},
   "source": [
    "# XGBoost Model 1"
   ]
  },
  {
   "cell_type": "code",
   "execution_count": 12,
   "metadata": {},
   "outputs": [
    {
     "name": "stdout",
     "output_type": "stream",
     "text": [
      "Train r2 score:  0.9937730878218226\n",
      "Val r2 score:  0.8179066555591556\n",
      "Train RMSE: 125.2321\n",
      "Val RMSE: 652.8375\n"
     ]
    },
    {
     "name": "stderr",
     "output_type": "stream",
     "text": [
      "C:\\Users\\saik0\\anaconda3\\lib\\site-packages\\xgboost\\data.py:112: UserWarning: Use subset (sliced data) of np.ndarray is not recommended because it will generate extra copies and increase memory consumption\n",
      "  warnings.warn(\n"
     ]
    }
   ],
   "source": [
    "from sklearn.metrics import r2_score\n",
    "from sklearn.metrics import mean_squared_error\n",
    "\n",
    "\n",
    "y_train_pred1 = xgb_model1.predict(X_train)\n",
    "y_pred1 = xgb_model1.predict(X_val)\n",
    "\n",
    "print('Train r2 score: ', r2_score(y_train_pred1, y_train))\n",
    "print('Val r2 score: ', r2_score(y_val, y_pred1))\n",
    "train_mse1 = mean_squared_error(y_train_pred1, y_train)\n",
    "val_mse1 = mean_squared_error(y_pred1, y_val)\n",
    "train_rmse1 = train_mse1**(1/2)\n",
    "val_rmse1 = val_mse1**(1/2)\n",
    "print('Train RMSE: %.4f' % train_rmse1)\n",
    "print('Val RMSE: %.4f' % val_rmse1)"
   ]
  },
  {
   "cell_type": "markdown",
   "metadata": {},
   "source": [
    "# XG Boost Model 2"
   ]
  },
  {
   "cell_type": "code",
   "execution_count": 13,
   "metadata": {},
   "outputs": [
    {
     "name": "stdout",
     "output_type": "stream",
     "text": [
      "Train r2 score:  0.9543103423138108\n",
      "Val r2 score:  0.8272035941352078\n",
      "Train RMSE: 324.9059\n",
      "Val RMSE: 635.9536\n"
     ]
    },
    {
     "name": "stderr",
     "output_type": "stream",
     "text": [
      "C:\\Users\\saik0\\anaconda3\\lib\\site-packages\\xgboost\\data.py:112: UserWarning: Use subset (sliced data) of np.ndarray is not recommended because it will generate extra copies and increase memory consumption\n",
      "  warnings.warn(\n"
     ]
    }
   ],
   "source": [
    "xgb_model2 = XGBRegressor(n_estimators=1000)\n",
    "xgb_model2.fit(X_train, y_train, early_stopping_rounds=5, \n",
    "             eval_set=[(X_val, y_val)], verbose=False)\n",
    "y_train_pred2 = xgb_model2.predict(X_train)\n",
    "y_pred2 = xgb_model2.predict(X_val)\n",
    "\n",
    "print('Train r2 score: ', r2_score(y_train_pred2, y_train))\n",
    "print('Val r2 score: ', r2_score(y_val, y_pred2))\n",
    "train_mse2 = mean_squared_error(y_train_pred2, y_train)\n",
    "val_mse2 = mean_squared_error(y_pred2, y_val)\n",
    "train_rmse2 = train_mse2 ** (1/2)\n",
    "val_rmse2 = val_mse2 ** (1/2)\n",
    "print('Train RMSE: %.4f' % train_rmse2)\n",
    "print('Val RMSE: %.4f' % val_rmse2)"
   ]
  },
  {
   "cell_type": "markdown",
   "metadata": {},
   "source": [
    " >Slight Improvement"
   ]
  },
  {
   "cell_type": "markdown",
   "metadata": {},
   "source": [
    "# XGBoost Model 3"
   ]
  },
  {
   "cell_type": "markdown",
   "metadata": {},
   "source": [
    "- Tuning Hyperparameters"
   ]
  },
  {
   "cell_type": "code",
   "execution_count": 14,
   "metadata": {},
   "outputs": [
    {
     "name": "stdout",
     "output_type": "stream",
     "text": [
      "Train r2 score:  0.9816751525112224\n",
      "Val r2 score:  0.8329787455410504\n",
      "Train RMSE: 211.4323\n",
      "Val RMSE: 625.2359\n"
     ]
    },
    {
     "name": "stderr",
     "output_type": "stream",
     "text": [
      "C:\\Users\\saik0\\anaconda3\\lib\\site-packages\\xgboost\\data.py:112: UserWarning: Use subset (sliced data) of np.ndarray is not recommended because it will generate extra copies and increase memory consumption\n",
      "  warnings.warn(\n"
     ]
    }
   ],
   "source": [
    "xgb_model4 = XGBRegressor(n_estimators=100, learning_rate=0.08, gamma=0, subsample=0.75,\n",
    "                         colsample_bytree=1, max_depth=7, n_jobs=-1)\n",
    "xgb_model4.fit(X_train,y_train)\n",
    "y_train_pred4 = xgb_model4.predict(X_train)\n",
    "y_pred4 = xgb_model4.predict(X_val)\n",
    "\n",
    "print('Train r2 score: ', r2_score(y_train_pred4, y_train))\n",
    "print('Val r2 score: ', r2_score(y_val, y_pred4))\n",
    "train_mse4 = mean_squared_error(y_train_pred4, y_train)\n",
    "val_mse4 = mean_squared_error(y_pred4, y_val)\n",
    "train_rmse4 = (train_mse4) ** (1/2)\n",
    "val_rmse4 = (val_mse4)**(1/2)\n",
    "print('Train RMSE: %.4f' % train_rmse4)\n",
    "print('Val RMSE: %.4f' % val_rmse4)"
   ]
  },
  {
   "cell_type": "markdown",
   "metadata": {},
   "source": [
    "> Slight improvement"
   ]
  },
  {
   "cell_type": "markdown",
   "metadata": {},
   "source": [
    "# Test dataset"
   ]
  },
  {
   "cell_type": "code",
   "execution_count": 15,
   "metadata": {},
   "outputs": [
    {
     "data": {
      "text/html": [
       "<div>\n",
       "<style scoped>\n",
       "    .dataframe tbody tr th:only-of-type {\n",
       "        vertical-align: middle;\n",
       "    }\n",
       "\n",
       "    .dataframe tbody tr th {\n",
       "        vertical-align: top;\n",
       "    }\n",
       "\n",
       "    .dataframe thead th {\n",
       "        text-align: right;\n",
       "    }\n",
       "</style>\n",
       "<table border=\"1\" class=\"dataframe\">\n",
       "  <thead>\n",
       "    <tr style=\"text-align: right;\">\n",
       "      <th></th>\n",
       "      <th>Hour</th>\n",
       "      <th>Weekday</th>\n",
       "      <th>Is Working Day</th>\n",
       "      <th>Previous Hour Price</th>\n",
       "      <th>SDSH DAP</th>\n",
       "      <th>SDSH Volume</th>\n",
       "      <th>Sgn0 VolumeDir</th>\n",
       "      <th>P24HA Price</th>\n",
       "      <th>PDSH Price</th>\n",
       "      <th>PWSH Price</th>\n",
       "      <th>PWA Price</th>\n",
       "      <th>target</th>\n",
       "    </tr>\n",
       "  </thead>\n",
       "  <tbody>\n",
       "    <tr>\n",
       "      <th>0</th>\n",
       "      <td>1</td>\n",
       "      <td>5</td>\n",
       "      <td>5</td>\n",
       "      <td>1501.96</td>\n",
       "      <td>1501.70</td>\n",
       "      <td>1563.7</td>\n",
       "      <td>-50.6</td>\n",
       "      <td>1622.125000</td>\n",
       "      <td>1513.71</td>\n",
       "      <td>593.880</td>\n",
       "      <td>1458.818810</td>\n",
       "      <td>NaN</td>\n",
       "    </tr>\n",
       "    <tr>\n",
       "      <th>1</th>\n",
       "      <td>2</td>\n",
       "      <td>5</td>\n",
       "      <td>5</td>\n",
       "      <td>1475.95</td>\n",
       "      <td>1508.89</td>\n",
       "      <td>1522.3</td>\n",
       "      <td>-41.4</td>\n",
       "      <td>1620.551667</td>\n",
       "      <td>1487.63</td>\n",
       "      <td>1004.500</td>\n",
       "      <td>1464.069226</td>\n",
       "      <td>NaN</td>\n",
       "    </tr>\n",
       "    <tr>\n",
       "      <th>2</th>\n",
       "      <td>3</td>\n",
       "      <td>5</td>\n",
       "      <td>5</td>\n",
       "      <td>1479.86</td>\n",
       "      <td>1379.23</td>\n",
       "      <td>1468.5</td>\n",
       "      <td>-53.8</td>\n",
       "      <td>1620.227917</td>\n",
       "      <td>1368.59</td>\n",
       "      <td>1025.598</td>\n",
       "      <td>1466.898750</td>\n",
       "      <td>NaN</td>\n",
       "    </tr>\n",
       "    <tr>\n",
       "      <th>3</th>\n",
       "      <td>4</td>\n",
       "      <td>5</td>\n",
       "      <td>5</td>\n",
       "      <td>1484.50</td>\n",
       "      <td>1335.80</td>\n",
       "      <td>1443.3</td>\n",
       "      <td>-25.2</td>\n",
       "      <td>1625.057500</td>\n",
       "      <td>1321.87</td>\n",
       "      <td>1046.696</td>\n",
       "      <td>1469.630310</td>\n",
       "      <td>NaN</td>\n",
       "    </tr>\n",
       "    <tr>\n",
       "      <th>4</th>\n",
       "      <td>5</td>\n",
       "      <td>5</td>\n",
       "      <td>5</td>\n",
       "      <td>1318.03</td>\n",
       "      <td>1329.68</td>\n",
       "      <td>1445.1</td>\n",
       "      <td>1.8</td>\n",
       "      <td>1624.897500</td>\n",
       "      <td>1317.43</td>\n",
       "      <td>1067.794</td>\n",
       "      <td>1471.245393</td>\n",
       "      <td>NaN</td>\n",
       "    </tr>\n",
       "  </tbody>\n",
       "</table>\n",
       "</div>"
      ],
      "text/plain": [
       "   Hour  Weekday  Is Working Day  Previous Hour Price  SDSH DAP  SDSH Volume  \\\n",
       "0     1        5               5              1501.96   1501.70       1563.7   \n",
       "1     2        5               5              1475.95   1508.89       1522.3   \n",
       "2     3        5               5              1479.86   1379.23       1468.5   \n",
       "3     4        5               5              1484.50   1335.80       1443.3   \n",
       "4     5        5               5              1318.03   1329.68       1445.1   \n",
       "\n",
       "   Sgn0 VolumeDir  P24HA Price  PDSH Price  PWSH Price    PWA Price  target  \n",
       "0           -50.6  1622.125000     1513.71     593.880  1458.818810     NaN  \n",
       "1           -41.4  1620.551667     1487.63    1004.500  1464.069226     NaN  \n",
       "2           -53.8  1620.227917     1368.59    1025.598  1466.898750     NaN  \n",
       "3           -25.2  1625.057500     1321.87    1046.696  1469.630310     NaN  \n",
       "4             1.8  1624.897500     1317.43    1067.794  1471.245393     NaN  "
      ]
     },
     "execution_count": 15,
     "metadata": {},
     "output_type": "execute_result"
    }
   ],
   "source": [
    "test_set = test.drop('Date', axis = 1)\n",
    "test_set.head()"
   ]
  },
  {
   "cell_type": "code",
   "execution_count": 16,
   "metadata": {},
   "outputs": [
    {
     "data": {
      "text/plain": [
       "(96, 12)"
      ]
     },
     "execution_count": 16,
     "metadata": {},
     "output_type": "execute_result"
    }
   ],
   "source": [
    "test_set.shape"
   ]
  },
  {
   "cell_type": "code",
   "execution_count": 17,
   "metadata": {},
   "outputs": [
    {
     "data": {
      "text/html": [
       "<div>\n",
       "<style scoped>\n",
       "    .dataframe tbody tr th:only-of-type {\n",
       "        vertical-align: middle;\n",
       "    }\n",
       "\n",
       "    .dataframe tbody tr th {\n",
       "        vertical-align: top;\n",
       "    }\n",
       "\n",
       "    .dataframe thead th {\n",
       "        text-align: right;\n",
       "    }\n",
       "</style>\n",
       "<table border=\"1\" class=\"dataframe\">\n",
       "  <thead>\n",
       "    <tr style=\"text-align: right;\">\n",
       "      <th></th>\n",
       "      <th>Hour</th>\n",
       "      <th>Weekday</th>\n",
       "      <th>Is Working Day</th>\n",
       "      <th>Previous Hour Price</th>\n",
       "      <th>SDSH DAP</th>\n",
       "      <th>SDSH Volume</th>\n",
       "      <th>Sgn0 VolumeDir</th>\n",
       "      <th>P24HA Price</th>\n",
       "      <th>PDSH Price</th>\n",
       "      <th>PWSH Price</th>\n",
       "      <th>PWA Price</th>\n",
       "    </tr>\n",
       "  </thead>\n",
       "  <tbody>\n",
       "    <tr>\n",
       "      <th>0</th>\n",
       "      <td>1</td>\n",
       "      <td>5</td>\n",
       "      <td>5</td>\n",
       "      <td>1501.96</td>\n",
       "      <td>1501.70</td>\n",
       "      <td>1563.7</td>\n",
       "      <td>-50.6</td>\n",
       "      <td>1622.125000</td>\n",
       "      <td>1513.71</td>\n",
       "      <td>593.880</td>\n",
       "      <td>1458.818810</td>\n",
       "    </tr>\n",
       "    <tr>\n",
       "      <th>1</th>\n",
       "      <td>2</td>\n",
       "      <td>5</td>\n",
       "      <td>5</td>\n",
       "      <td>1475.95</td>\n",
       "      <td>1508.89</td>\n",
       "      <td>1522.3</td>\n",
       "      <td>-41.4</td>\n",
       "      <td>1620.551667</td>\n",
       "      <td>1487.63</td>\n",
       "      <td>1004.500</td>\n",
       "      <td>1464.069226</td>\n",
       "    </tr>\n",
       "    <tr>\n",
       "      <th>2</th>\n",
       "      <td>3</td>\n",
       "      <td>5</td>\n",
       "      <td>5</td>\n",
       "      <td>1479.86</td>\n",
       "      <td>1379.23</td>\n",
       "      <td>1468.5</td>\n",
       "      <td>-53.8</td>\n",
       "      <td>1620.227917</td>\n",
       "      <td>1368.59</td>\n",
       "      <td>1025.598</td>\n",
       "      <td>1466.898750</td>\n",
       "    </tr>\n",
       "    <tr>\n",
       "      <th>3</th>\n",
       "      <td>4</td>\n",
       "      <td>5</td>\n",
       "      <td>5</td>\n",
       "      <td>1484.50</td>\n",
       "      <td>1335.80</td>\n",
       "      <td>1443.3</td>\n",
       "      <td>-25.2</td>\n",
       "      <td>1625.057500</td>\n",
       "      <td>1321.87</td>\n",
       "      <td>1046.696</td>\n",
       "      <td>1469.630310</td>\n",
       "    </tr>\n",
       "    <tr>\n",
       "      <th>4</th>\n",
       "      <td>5</td>\n",
       "      <td>5</td>\n",
       "      <td>5</td>\n",
       "      <td>1318.03</td>\n",
       "      <td>1329.68</td>\n",
       "      <td>1445.1</td>\n",
       "      <td>1.8</td>\n",
       "      <td>1624.897500</td>\n",
       "      <td>1317.43</td>\n",
       "      <td>1067.794</td>\n",
       "      <td>1471.245393</td>\n",
       "    </tr>\n",
       "    <tr>\n",
       "      <th>...</th>\n",
       "      <td>...</td>\n",
       "      <td>...</td>\n",
       "      <td>...</td>\n",
       "      <td>...</td>\n",
       "      <td>...</td>\n",
       "      <td>...</td>\n",
       "      <td>...</td>\n",
       "      <td>...</td>\n",
       "      <td>...</td>\n",
       "      <td>...</td>\n",
       "      <td>...</td>\n",
       "    </tr>\n",
       "    <tr>\n",
       "      <th>91</th>\n",
       "      <td>20</td>\n",
       "      <td>1</td>\n",
       "      <td>4</td>\n",
       "      <td>1526.21</td>\n",
       "      <td>1453.48</td>\n",
       "      <td>1699.2</td>\n",
       "      <td>-29.8</td>\n",
       "      <td>1404.308333</td>\n",
       "      <td>1478.62</td>\n",
       "      <td>1478.620</td>\n",
       "      <td>1572.208988</td>\n",
       "    </tr>\n",
       "    <tr>\n",
       "      <th>92</th>\n",
       "      <td>21</td>\n",
       "      <td>1</td>\n",
       "      <td>4</td>\n",
       "      <td>1508.22</td>\n",
       "      <td>1429.08</td>\n",
       "      <td>1658.6</td>\n",
       "      <td>-40.6</td>\n",
       "      <td>1413.315000</td>\n",
       "      <td>2003.47</td>\n",
       "      <td>2003.470</td>\n",
       "      <td>1572.385179</td>\n",
       "    </tr>\n",
       "    <tr>\n",
       "      <th>93</th>\n",
       "      <td>22</td>\n",
       "      <td>1</td>\n",
       "      <td>4</td>\n",
       "      <td>1522.36</td>\n",
       "      <td>1436.56</td>\n",
       "      <td>1584.6</td>\n",
       "      <td>-74.0</td>\n",
       "      <td>1420.927500</td>\n",
       "      <td>1495.85</td>\n",
       "      <td>1495.850</td>\n",
       "      <td>1569.521429</td>\n",
       "    </tr>\n",
       "    <tr>\n",
       "      <th>94</th>\n",
       "      <td>23</td>\n",
       "      <td>1</td>\n",
       "      <td>4</td>\n",
       "      <td>1498.13</td>\n",
       "      <td>1330.44</td>\n",
       "      <td>1529.7</td>\n",
       "      <td>-54.9</td>\n",
       "      <td>1419.888750</td>\n",
       "      <td>1511.13</td>\n",
       "      <td>1511.130</td>\n",
       "      <td>1569.535000</td>\n",
       "    </tr>\n",
       "    <tr>\n",
       "      <th>95</th>\n",
       "      <td>24</td>\n",
       "      <td>1</td>\n",
       "      <td>4</td>\n",
       "      <td>1334.21</td>\n",
       "      <td>1297.81</td>\n",
       "      <td>1445.3</td>\n",
       "      <td>-84.4</td>\n",
       "      <td>1411.941250</td>\n",
       "      <td>1496.18</td>\n",
       "      <td>1496.180</td>\n",
       "      <td>1568.481905</td>\n",
       "    </tr>\n",
       "  </tbody>\n",
       "</table>\n",
       "<p>96 rows × 11 columns</p>\n",
       "</div>"
      ],
      "text/plain": [
       "    Hour  Weekday  Is Working Day  Previous Hour Price  SDSH DAP  SDSH Volume  \\\n",
       "0      1        5               5              1501.96   1501.70       1563.7   \n",
       "1      2        5               5              1475.95   1508.89       1522.3   \n",
       "2      3        5               5              1479.86   1379.23       1468.5   \n",
       "3      4        5               5              1484.50   1335.80       1443.3   \n",
       "4      5        5               5              1318.03   1329.68       1445.1   \n",
       "..   ...      ...             ...                  ...       ...          ...   \n",
       "91    20        1               4              1526.21   1453.48       1699.2   \n",
       "92    21        1               4              1508.22   1429.08       1658.6   \n",
       "93    22        1               4              1522.36   1436.56       1584.6   \n",
       "94    23        1               4              1498.13   1330.44       1529.7   \n",
       "95    24        1               4              1334.21   1297.81       1445.3   \n",
       "\n",
       "    Sgn0 VolumeDir  P24HA Price  PDSH Price  PWSH Price    PWA Price  \n",
       "0            -50.6  1622.125000     1513.71     593.880  1458.818810  \n",
       "1            -41.4  1620.551667     1487.63    1004.500  1464.069226  \n",
       "2            -53.8  1620.227917     1368.59    1025.598  1466.898750  \n",
       "3            -25.2  1625.057500     1321.87    1046.696  1469.630310  \n",
       "4              1.8  1624.897500     1317.43    1067.794  1471.245393  \n",
       "..             ...          ...         ...         ...          ...  \n",
       "91           -29.8  1404.308333     1478.62    1478.620  1572.208988  \n",
       "92           -40.6  1413.315000     2003.47    2003.470  1572.385179  \n",
       "93           -74.0  1420.927500     1495.85    1495.850  1569.521429  \n",
       "94           -54.9  1419.888750     1511.13    1511.130  1569.535000  \n",
       "95           -84.4  1411.941250     1496.18    1496.180  1568.481905  \n",
       "\n",
       "[96 rows x 11 columns]"
      ]
     },
     "execution_count": 17,
     "metadata": {},
     "output_type": "execute_result"
    }
   ],
   "source": [
    "# Test data for prediction\n",
    "X_test_set = test_set.iloc[:, :-1]\n",
    "X_test_set"
   ]
  },
  {
   "cell_type": "markdown",
   "metadata": {},
   "source": [
    "# Predictions on Test Dataset\n",
    "\n",
    "- Now we use these models to predict on the test dataset "
   ]
  },
  {
   "cell_type": "markdown",
   "metadata": {},
   "source": [
    "### XGboost-Model 1 Predictions"
   ]
  },
  {
   "cell_type": "code",
   "execution_count": 18,
   "metadata": {},
   "outputs": [
    {
     "name": "stdout",
     "output_type": "stream",
     "text": [
      "[1454.2109 1459.3186 1481.8602 1412.9075 1359.8274 1317.1774 1318.6378\n",
      " 1526.1973 1695.6791 1653.8763 2007.2028 1674.6388 1757.0233 2413.3103\n",
      " 2090.4512 1936.8289 1634.6327 2124.9785 1695.0281 1552.2919 1571.1158\n",
      " 1743.7509 1821.1659 1557.8004 1521.3011 1421.6147 1464.5863 1511.9818\n",
      " 1371.4534 1376.6349 1372.586  1513.9032 1589.0073 1518.0289 1644.8541\n",
      " 1668.2446 2000.0834 2051.882  1986.3956 1802.5901 1517.7933 2102.2625\n",
      " 1554.7135 1604.1969 1950.1279 1874.0287 2094.6118 1657.6716 1522.318\n",
      " 1461.1532 1467.3843 1424.0896 1329.8469 1355.3998 1305.6453 1299.7601\n",
      " 1588.3309 1677.7516 1719.0659 1585.8756 1617.1608 1602.7852 1537.7125\n",
      " 1508.4907 1637.8289 1867.6414 1659.6108 1369.4442 1454.0223 1523.3309\n",
      " 1452.1748 1500.6213 1404.5454 1526.2579 1488.0989 1469.949  1431.2449\n",
      " 1275.9335 1278.8961 1310.2875 1393.8396 1404.8353 1486.9064 1403.6124\n",
      " 1317.5433 1290.5525 1317.8154 1320.1465 1352.1168 1703.2692 1697.6478\n",
      " 1492.9598 1465.206  1454.8214 1435.622  1332.5728]\n"
     ]
    },
    {
     "name": "stderr",
     "output_type": "stream",
     "text": [
      "C:\\Users\\saik0\\anaconda3\\lib\\site-packages\\xgboost\\data.py:112: UserWarning: Use subset (sliced data) of np.ndarray is not recommended because it will generate extra copies and increase memory consumption\n",
      "  warnings.warn(\n"
     ]
    }
   ],
   "source": [
    "y_pred_1 = xgb_model1.predict(X_test_set)\n",
    "print(y_pred_1)"
   ]
  },
  {
   "cell_type": "markdown",
   "metadata": {},
   "source": [
    "## XGboost-Model 2 Predictions"
   ]
  },
  {
   "cell_type": "code",
   "execution_count": 19,
   "metadata": {},
   "outputs": [
    {
     "name": "stdout",
     "output_type": "stream",
     "text": [
      "[1508.4667 1508.4667 1456.4921 1456.4921 1323.5455 1335.0503 1347.9534\n",
      " 1524.884  1659.2732 1821.8197 2257.8528 1541.1328 1668.7375 2187.2866\n",
      " 1950.4993 1822.3746 1622.6072 2187.2866 1698.9716 1508.4667 1469.8575\n",
      " 1899.6267 1821.4833 1513.7378 1513.8613 1400.9602 1521.0653 1480.8999\n",
      " 1347.9534 1338.6321 1327.1866 1492.6125 1532.4623 1563.1982 1601.0924\n",
      " 1628.2107 1545.8844 1697.9254 1739.1372 1698.9716 1671.8866 2053.393\n",
      " 1739.1372 1711.0051 1889.3081 1990.2224 2119.2861 1622.1372 1473.0525\n",
      " 1480.8999 1480.8999 1388.1188 1347.9534 1370.9036 1388.1188 1301.5758\n",
      " 1595.0864 1682.1826 1737.9552 1542.9268 1590.7927 1571.5823 1519.9714\n",
      " 1508.4667 1641.8301 1830.9431 1657.2181 1414.9775 1420.2487 1380.7911\n",
      " 1495.5879 1461.7632 1412.6118 1521.0653 1480.8999 1462.75   1404.7482\n",
      " 1297.235  1297.235  1320.1852 1423.0947 1449.4053 1501.3799 1432.315\n",
      " 1354.7534 1343.2487 1343.2487 1343.2487 1366.1989 1590.1368 1603.3347\n",
      " 1508.4667 1505.8394 1513.7378 1481.4663 1328.8167]\n"
     ]
    }
   ],
   "source": [
    "y_pred_2 = xgb_model2.predict(X_test_set)\n",
    "print(y_pred_2)"
   ]
  },
  {
   "cell_type": "markdown",
   "metadata": {},
   "source": [
    "## XGboost-Model 3 Predictions"
   ]
  },
  {
   "cell_type": "code",
   "execution_count": 20,
   "metadata": {},
   "outputs": [
    {
     "name": "stdout",
     "output_type": "stream",
     "text": [
      "[1504.4911 1481.6327 1432.0059 1435.377  1333.4333 1341.4808 1385.5045\n",
      " 1556.8474 1763.9463 1902.4398 2822.0002 1642.6317 1656.3907 2446.3826\n",
      " 2001.7637 1790.4882 1626.7555 2411.5315 1678.5714 1484.0653 1541.5999\n",
      " 1844.9365 1853.5607 1530.0842 1631.1321 1537.6729 1519.755  1514.6057\n",
      " 1420.034  1362.7273 1368.8473 1511.0441 1558.948  1551.3224 1657.5374\n",
      " 1629.6539 1550.0938 1741.8706 1850.5361 1678.2867 1614.0317 1992.401\n",
      " 1621.9077 1628.2496 1908.5784 2075.5325 2236.3994 1597.7854 1484.6718\n",
      " 1419.1165 1484.4811 1299.3153 1382.8525 1330.9319 1322.5216 1319.5085\n",
      " 1595.8516 1686.5292 1775.1063 1525.7356 1559.044  1604.6982 1530.2972\n",
      " 1485.8405 1637.147  1907.7239 1687.864  1356.5382 1344.8793 1386.9707\n",
      " 1456.6041 1434.0454 1390.2628 1531.6847 1481.4261 1441.4891 1396.385\n",
      " 1283.9873 1287.8615 1296.5869 1376.3804 1421.087  1474.7517 1408.965\n",
      " 1398.9808 1307.3813 1315.441  1300.9192 1350.329  1687.8209 1619.403\n",
      " 1487.071  1537.9089 1472.6963 1444.1172 1291.178 ]\n"
     ]
    }
   ],
   "source": [
    "y_pred_4 = xgb_model4.predict(X_test_set)\n",
    "print(y_pred_4)"
   ]
  },
  {
   "cell_type": "markdown",
   "metadata": {},
   "source": [
    "## Feature importance"
   ]
  },
  {
   "cell_type": "code",
   "execution_count": 21,
   "metadata": {},
   "outputs": [
    {
     "data": {
      "text/plain": [
       "OrderedDict([('Previous Hour Price', 658),\n",
       "             ('SDSH DAP', 561),\n",
       "             ('Hour', 465),\n",
       "             ('Sgn0 VolumeDir', 428),\n",
       "             ('P24HA Price', 394),\n",
       "             ('SDSH Volume', 386),\n",
       "             ('PWA Price', 344),\n",
       "             ('PDSH Price', 328),\n",
       "             ('PWSH Price', 315),\n",
       "             ('Weekday', 210),\n",
       "             ('Is Working Day', 74)])"
      ]
     },
     "execution_count": 21,
     "metadata": {},
     "output_type": "execute_result"
    }
   ],
   "source": [
    "from collections import OrderedDict\n",
    "OrderedDict(sorted(xgb_model1.get_booster().get_fscore().items(), key=lambda t: t[1], reverse=True))"
   ]
  },
  {
   "cell_type": "code",
   "execution_count": 22,
   "metadata": {},
   "outputs": [
    {
     "name": "stdout",
     "output_type": "stream",
     "text": [
      "['SDSH DAP', 'Previous Hour Price', 'Sgn0 VolumeDir', 'PWSH Price', 'PDSH Price', 'P24HA Price', 'Weekday', 'Hour', 'SDSH Volume', 'Is Working Day', 'PWA Price']\n"
     ]
    }
   ],
   "source": [
    "most_relevant_features= list( dict((k, v) for k, v in xgb_model1.get_booster().get_fscore().items() if v >= 4).keys())\n",
    "print(most_relevant_features)"
   ]
  },
  {
   "cell_type": "markdown",
   "metadata": {},
   "source": [
    "# ElasticNet Model"
   ]
  },
  {
   "cell_type": "code",
   "execution_count": 23,
   "metadata": {},
   "outputs": [],
   "source": [
    "from sklearn.linear_model import ElasticNetCV, ElasticNet"
   ]
  },
  {
   "cell_type": "markdown",
   "metadata": {},
   "source": [
    "- Tuning Hyperparmeters using crossvalidation "
   ]
  },
  {
   "cell_type": "code",
   "execution_count": 24,
   "metadata": {},
   "outputs": [],
   "source": [
    "cv_model = ElasticNetCV(l1_ratio=[.1, .5, .7, .9, .95, .99, 1], eps=1e-3, n_alphas=100, fit_intercept=True, \n",
    "                        normalize=True, precompute='auto', max_iter=2000, tol=0.0001, cv=6, \n",
    "                        copy_X=True, verbose=0, n_jobs=-1, positive=False, random_state=0)"
   ]
  },
  {
   "cell_type": "code",
   "execution_count": 25,
   "metadata": {},
   "outputs": [
    {
     "data": {
      "text/plain": [
       "ElasticNetCV(cv=6, l1_ratio=[0.1, 0.5, 0.7, 0.9, 0.95, 0.99, 1], max_iter=2000,\n",
       "             n_jobs=-1, normalize=True, random_state=0)"
      ]
     },
     "execution_count": 25,
     "metadata": {},
     "output_type": "execute_result"
    }
   ],
   "source": [
    "cv_model.fit(X_train, y_train)"
   ]
  },
  {
   "cell_type": "code",
   "execution_count": 26,
   "metadata": {},
   "outputs": [
    {
     "name": "stdout",
     "output_type": "stream",
     "text": [
      "Optimal alpha: 0.06854984\n",
      "Optimal l1_ratio: 1.000\n",
      "Number of iterations 18\n"
     ]
    }
   ],
   "source": [
    "print('Optimal alpha: %.8f'%cv_model.alpha_)\n",
    "print('Optimal l1_ratio: %.3f'%cv_model.l1_ratio_)\n",
    "print('Number of iterations %d'%cv_model.n_iter_)"
   ]
  },
  {
   "cell_type": "code",
   "execution_count": 27,
   "metadata": {},
   "outputs": [
    {
     "name": "stdout",
     "output_type": "stream",
     "text": [
      "Train r2 score:  0.8229755245355375\n",
      "Val r2 score:  0.8077685162526922\n",
      "Train RMSE: 620.3207\n",
      "Test RMSE: 670.7649\n"
     ]
    }
   ],
   "source": [
    "y_train_pred = cv_model.predict(X_train)\n",
    "y_pred = cv_model.predict(X_val)\n",
    "print('Train r2 score: ', r2_score(y_train_pred, y_train))\n",
    "print('Val r2 score: ', r2_score(y_val, y_pred))\n",
    "train_mse = mean_squared_error(y_train_pred, y_train)\n",
    "val_mse = mean_squared_error(y_pred, y_val)\n",
    "train_rmse = np.sqrt(train_mse)\n",
    "val_rmse = np.sqrt(val_mse)\n",
    "print('Train RMSE: %.4f' % train_rmse)\n",
    "print('Test RMSE: %.4f' % val_rmse)"
   ]
  },
  {
   "cell_type": "markdown",
   "metadata": {},
   "source": [
    "# ElasticNet Model Predictions on TEST SET"
   ]
  },
  {
   "cell_type": "code",
   "execution_count": 28,
   "metadata": {},
   "outputs": [
    {
     "name": "stdout",
     "output_type": "stream",
     "text": [
      "[1419.13327073 1419.21440795 1312.89323904 1328.29258324 1300.55295114\n",
      " 1341.63390474 1385.84259824 1698.90599732 1951.67623918 2129.68418637\n",
      " 2439.05993461 1747.75205154 1718.1491773  2157.48285112 2074.53801328\n",
      " 1808.13784214 1570.98210583 2171.49790504 1636.71183688 1471.39273034\n",
      " 1465.35708163 1662.7920259  1708.66668254 1407.29093419 1520.59675182\n",
      " 1433.37109814 1419.78579528 1437.59016115 1422.19871906 1345.78530777\n",
      " 1367.51201081 1621.20847046 1811.66377679 1642.1009283  1758.84912299\n",
      " 1617.658303   1596.31509992 1882.56122004 1936.13050427 1775.07886676\n",
      " 1555.59708029 2059.51043777 1708.56641083 1650.9151581  1780.4851188\n",
      " 1790.27825345 1972.80390322 1561.17274109 1337.54292169 1356.86648005\n",
      " 1420.66670609 1327.00835436 1379.56532854 1365.20723352 1317.08902309\n",
      " 1298.08055393 1762.67473608 1813.31570093 1872.18817085 1446.14013316\n",
      " 1562.19540405 1643.29043371 1579.21630415 1456.38318371 1651.3541523\n",
      " 2074.46378447 1670.99302769 1548.71993855 1515.34565951 1234.3412331\n",
      " 1358.38984206 1239.73866432 1289.81745876 1428.9427231  1408.76679653\n",
      " 1352.7530575  1337.33814974 1212.04671942 1185.13083262 1235.95285212\n",
      " 1345.43027479 1394.61101318 1484.56968558 1377.29930343 1392.82060314\n",
      " 1247.82073317 1276.45965293 1246.25083279 1329.08330618 2034.97202623\n",
      " 1517.45924139 1440.56473576 1422.79065307 1344.30254532 1295.62195137\n",
      " 1151.28433756]\n"
     ]
    }
   ],
   "source": [
    "y_pred_ElasticNet = cv_model.predict(X_test_set)\n",
    "print(y_pred_ElasticNet)"
   ]
  },
  {
   "cell_type": "markdown",
   "metadata": {},
   "source": [
    "## Best Model - XGBoost model 3"
   ]
  },
  {
   "cell_type": "markdown",
   "metadata": {},
   "source": [
    "- from the above models the XGBoost model 3 is Performing better because\n",
    "    >  it has better Training and Validation Accuracy\n",
    "    \n",
    "- Storing the results to excel file"
   ]
  },
  {
   "cell_type": "code",
   "execution_count": 29,
   "metadata": {},
   "outputs": [],
   "source": [
    "predicted_set4 = pd.DataFrame(y_pred_4)"
   ]
  },
  {
   "cell_type": "code",
   "execution_count": 30,
   "metadata": {},
   "outputs": [
    {
     "data": {
      "text/html": [
       "<div>\n",
       "<style scoped>\n",
       "    .dataframe tbody tr th:only-of-type {\n",
       "        vertical-align: middle;\n",
       "    }\n",
       "\n",
       "    .dataframe tbody tr th {\n",
       "        vertical-align: top;\n",
       "    }\n",
       "\n",
       "    .dataframe thead th {\n",
       "        text-align: right;\n",
       "    }\n",
       "</style>\n",
       "<table border=\"1\" class=\"dataframe\">\n",
       "  <thead>\n",
       "    <tr style=\"text-align: right;\">\n",
       "      <th></th>\n",
       "      <th>Target_Price_Prediction</th>\n",
       "    </tr>\n",
       "  </thead>\n",
       "  <tbody>\n",
       "    <tr>\n",
       "      <th>0</th>\n",
       "      <td>1504.491089</td>\n",
       "    </tr>\n",
       "    <tr>\n",
       "      <th>1</th>\n",
       "      <td>1481.632690</td>\n",
       "    </tr>\n",
       "    <tr>\n",
       "      <th>2</th>\n",
       "      <td>1432.005859</td>\n",
       "    </tr>\n",
       "    <tr>\n",
       "      <th>3</th>\n",
       "      <td>1435.376953</td>\n",
       "    </tr>\n",
       "    <tr>\n",
       "      <th>4</th>\n",
       "      <td>1333.433350</td>\n",
       "    </tr>\n",
       "    <tr>\n",
       "      <th>...</th>\n",
       "      <td>...</td>\n",
       "    </tr>\n",
       "    <tr>\n",
       "      <th>91</th>\n",
       "      <td>1487.071045</td>\n",
       "    </tr>\n",
       "    <tr>\n",
       "      <th>92</th>\n",
       "      <td>1537.908936</td>\n",
       "    </tr>\n",
       "    <tr>\n",
       "      <th>93</th>\n",
       "      <td>1472.696289</td>\n",
       "    </tr>\n",
       "    <tr>\n",
       "      <th>94</th>\n",
       "      <td>1444.117188</td>\n",
       "    </tr>\n",
       "    <tr>\n",
       "      <th>95</th>\n",
       "      <td>1291.177979</td>\n",
       "    </tr>\n",
       "  </tbody>\n",
       "</table>\n",
       "<p>96 rows × 1 columns</p>\n",
       "</div>"
      ],
      "text/plain": [
       "    Target_Price_Prediction\n",
       "0               1504.491089\n",
       "1               1481.632690\n",
       "2               1432.005859\n",
       "3               1435.376953\n",
       "4               1333.433350\n",
       "..                      ...\n",
       "91              1487.071045\n",
       "92              1537.908936\n",
       "93              1472.696289\n",
       "94              1444.117188\n",
       "95              1291.177979\n",
       "\n",
       "[96 rows x 1 columns]"
      ]
     },
     "execution_count": 30,
     "metadata": {},
     "output_type": "execute_result"
    }
   ],
   "source": [
    "predicted_set4.rename(columns = {0:'Target_Price_Prediction'}, inplace = True)\n",
    "predicted_set4"
   ]
  },
  {
   "cell_type": "code",
   "execution_count": 31,
   "metadata": {},
   "outputs": [
    {
     "data": {
      "text/html": [
       "<div>\n",
       "<style scoped>\n",
       "    .dataframe tbody tr th:only-of-type {\n",
       "        vertical-align: middle;\n",
       "    }\n",
       "\n",
       "    .dataframe tbody tr th {\n",
       "        vertical-align: top;\n",
       "    }\n",
       "\n",
       "    .dataframe thead th {\n",
       "        text-align: right;\n",
       "    }\n",
       "</style>\n",
       "<table border=\"1\" class=\"dataframe\">\n",
       "  <thead>\n",
       "    <tr style=\"text-align: right;\">\n",
       "      <th></th>\n",
       "      <th>Hour</th>\n",
       "      <th>Weekday</th>\n",
       "      <th>Is Working Day</th>\n",
       "      <th>Previous Hour Price</th>\n",
       "      <th>SDSH DAP</th>\n",
       "      <th>SDSH Volume</th>\n",
       "      <th>Sgn0 VolumeDir</th>\n",
       "      <th>P24HA Price</th>\n",
       "      <th>PDSH Price</th>\n",
       "      <th>PWSH Price</th>\n",
       "      <th>PWA Price</th>\n",
       "      <th>Target_Price_Prediction</th>\n",
       "    </tr>\n",
       "  </thead>\n",
       "  <tbody>\n",
       "    <tr>\n",
       "      <th>0</th>\n",
       "      <td>1</td>\n",
       "      <td>5</td>\n",
       "      <td>5</td>\n",
       "      <td>1501.96</td>\n",
       "      <td>1501.70</td>\n",
       "      <td>1563.7</td>\n",
       "      <td>-50.6</td>\n",
       "      <td>1622.125000</td>\n",
       "      <td>1513.71</td>\n",
       "      <td>593.880</td>\n",
       "      <td>1458.818810</td>\n",
       "      <td>1504.491089</td>\n",
       "    </tr>\n",
       "    <tr>\n",
       "      <th>1</th>\n",
       "      <td>2</td>\n",
       "      <td>5</td>\n",
       "      <td>5</td>\n",
       "      <td>1475.95</td>\n",
       "      <td>1508.89</td>\n",
       "      <td>1522.3</td>\n",
       "      <td>-41.4</td>\n",
       "      <td>1620.551667</td>\n",
       "      <td>1487.63</td>\n",
       "      <td>1004.500</td>\n",
       "      <td>1464.069226</td>\n",
       "      <td>1481.632690</td>\n",
       "    </tr>\n",
       "    <tr>\n",
       "      <th>2</th>\n",
       "      <td>3</td>\n",
       "      <td>5</td>\n",
       "      <td>5</td>\n",
       "      <td>1479.86</td>\n",
       "      <td>1379.23</td>\n",
       "      <td>1468.5</td>\n",
       "      <td>-53.8</td>\n",
       "      <td>1620.227917</td>\n",
       "      <td>1368.59</td>\n",
       "      <td>1025.598</td>\n",
       "      <td>1466.898750</td>\n",
       "      <td>1432.005859</td>\n",
       "    </tr>\n",
       "    <tr>\n",
       "      <th>3</th>\n",
       "      <td>4</td>\n",
       "      <td>5</td>\n",
       "      <td>5</td>\n",
       "      <td>1484.50</td>\n",
       "      <td>1335.80</td>\n",
       "      <td>1443.3</td>\n",
       "      <td>-25.2</td>\n",
       "      <td>1625.057500</td>\n",
       "      <td>1321.87</td>\n",
       "      <td>1046.696</td>\n",
       "      <td>1469.630310</td>\n",
       "      <td>1435.376953</td>\n",
       "    </tr>\n",
       "    <tr>\n",
       "      <th>4</th>\n",
       "      <td>5</td>\n",
       "      <td>5</td>\n",
       "      <td>5</td>\n",
       "      <td>1318.03</td>\n",
       "      <td>1329.68</td>\n",
       "      <td>1445.1</td>\n",
       "      <td>1.8</td>\n",
       "      <td>1624.897500</td>\n",
       "      <td>1317.43</td>\n",
       "      <td>1067.794</td>\n",
       "      <td>1471.245393</td>\n",
       "      <td>1333.433350</td>\n",
       "    </tr>\n",
       "  </tbody>\n",
       "</table>\n",
       "</div>"
      ],
      "text/plain": [
       "   Hour  Weekday  Is Working Day  Previous Hour Price  SDSH DAP  SDSH Volume  \\\n",
       "0     1        5               5              1501.96   1501.70       1563.7   \n",
       "1     2        5               5              1475.95   1508.89       1522.3   \n",
       "2     3        5               5              1479.86   1379.23       1468.5   \n",
       "3     4        5               5              1484.50   1335.80       1443.3   \n",
       "4     5        5               5              1318.03   1329.68       1445.1   \n",
       "\n",
       "   Sgn0 VolumeDir  P24HA Price  PDSH Price  PWSH Price    PWA Price  \\\n",
       "0           -50.6  1622.125000     1513.71     593.880  1458.818810   \n",
       "1           -41.4  1620.551667     1487.63    1004.500  1464.069226   \n",
       "2           -53.8  1620.227917     1368.59    1025.598  1466.898750   \n",
       "3           -25.2  1625.057500     1321.87    1046.696  1469.630310   \n",
       "4             1.8  1624.897500     1317.43    1067.794  1471.245393   \n",
       "\n",
       "   Target_Price_Prediction  \n",
       "0              1504.491089  \n",
       "1              1481.632690  \n",
       "2              1432.005859  \n",
       "3              1435.376953  \n",
       "4              1333.433350  "
      ]
     },
     "execution_count": 31,
     "metadata": {},
     "output_type": "execute_result"
    }
   ],
   "source": [
    "result4 = pd.concat([X_test_set, predicted_set4], axis = 1)\n",
    "result4.head()"
   ]
  },
  {
   "cell_type": "code",
   "execution_count": 32,
   "metadata": {},
   "outputs": [
    {
     "data": {
      "text/html": [
       "<div>\n",
       "<style scoped>\n",
       "    .dataframe tbody tr th:only-of-type {\n",
       "        vertical-align: middle;\n",
       "    }\n",
       "\n",
       "    .dataframe tbody tr th {\n",
       "        vertical-align: top;\n",
       "    }\n",
       "\n",
       "    .dataframe thead th {\n",
       "        text-align: right;\n",
       "    }\n",
       "</style>\n",
       "<table border=\"1\" class=\"dataframe\">\n",
       "  <thead>\n",
       "    <tr style=\"text-align: right;\">\n",
       "      <th></th>\n",
       "      <th>Hour</th>\n",
       "      <th>Weekday</th>\n",
       "      <th>Is Working Day</th>\n",
       "      <th>Previous Hour Price</th>\n",
       "      <th>SDSH DAP</th>\n",
       "      <th>SDSH Volume</th>\n",
       "      <th>Sgn0 VolumeDir</th>\n",
       "      <th>P24HA Price</th>\n",
       "      <th>PDSH Price</th>\n",
       "      <th>PWSH Price</th>\n",
       "      <th>PWA Price</th>\n",
       "      <th>Target_Price_Prediction</th>\n",
       "    </tr>\n",
       "  </thead>\n",
       "  <tbody>\n",
       "    <tr>\n",
       "      <th>91</th>\n",
       "      <td>20</td>\n",
       "      <td>1</td>\n",
       "      <td>4</td>\n",
       "      <td>1526.21</td>\n",
       "      <td>1453.48</td>\n",
       "      <td>1699.2</td>\n",
       "      <td>-29.8</td>\n",
       "      <td>1404.308333</td>\n",
       "      <td>1478.62</td>\n",
       "      <td>1478.62</td>\n",
       "      <td>1572.208988</td>\n",
       "      <td>1487.071045</td>\n",
       "    </tr>\n",
       "    <tr>\n",
       "      <th>92</th>\n",
       "      <td>21</td>\n",
       "      <td>1</td>\n",
       "      <td>4</td>\n",
       "      <td>1508.22</td>\n",
       "      <td>1429.08</td>\n",
       "      <td>1658.6</td>\n",
       "      <td>-40.6</td>\n",
       "      <td>1413.315000</td>\n",
       "      <td>2003.47</td>\n",
       "      <td>2003.47</td>\n",
       "      <td>1572.385179</td>\n",
       "      <td>1537.908936</td>\n",
       "    </tr>\n",
       "    <tr>\n",
       "      <th>93</th>\n",
       "      <td>22</td>\n",
       "      <td>1</td>\n",
       "      <td>4</td>\n",
       "      <td>1522.36</td>\n",
       "      <td>1436.56</td>\n",
       "      <td>1584.6</td>\n",
       "      <td>-74.0</td>\n",
       "      <td>1420.927500</td>\n",
       "      <td>1495.85</td>\n",
       "      <td>1495.85</td>\n",
       "      <td>1569.521429</td>\n",
       "      <td>1472.696289</td>\n",
       "    </tr>\n",
       "    <tr>\n",
       "      <th>94</th>\n",
       "      <td>23</td>\n",
       "      <td>1</td>\n",
       "      <td>4</td>\n",
       "      <td>1498.13</td>\n",
       "      <td>1330.44</td>\n",
       "      <td>1529.7</td>\n",
       "      <td>-54.9</td>\n",
       "      <td>1419.888750</td>\n",
       "      <td>1511.13</td>\n",
       "      <td>1511.13</td>\n",
       "      <td>1569.535000</td>\n",
       "      <td>1444.117188</td>\n",
       "    </tr>\n",
       "    <tr>\n",
       "      <th>95</th>\n",
       "      <td>24</td>\n",
       "      <td>1</td>\n",
       "      <td>4</td>\n",
       "      <td>1334.21</td>\n",
       "      <td>1297.81</td>\n",
       "      <td>1445.3</td>\n",
       "      <td>-84.4</td>\n",
       "      <td>1411.941250</td>\n",
       "      <td>1496.18</td>\n",
       "      <td>1496.18</td>\n",
       "      <td>1568.481905</td>\n",
       "      <td>1291.177979</td>\n",
       "    </tr>\n",
       "  </tbody>\n",
       "</table>\n",
       "</div>"
      ],
      "text/plain": [
       "    Hour  Weekday  Is Working Day  Previous Hour Price  SDSH DAP  SDSH Volume  \\\n",
       "91    20        1               4              1526.21   1453.48       1699.2   \n",
       "92    21        1               4              1508.22   1429.08       1658.6   \n",
       "93    22        1               4              1522.36   1436.56       1584.6   \n",
       "94    23        1               4              1498.13   1330.44       1529.7   \n",
       "95    24        1               4              1334.21   1297.81       1445.3   \n",
       "\n",
       "    Sgn0 VolumeDir  P24HA Price  PDSH Price  PWSH Price    PWA Price  \\\n",
       "91           -29.8  1404.308333     1478.62     1478.62  1572.208988   \n",
       "92           -40.6  1413.315000     2003.47     2003.47  1572.385179   \n",
       "93           -74.0  1420.927500     1495.85     1495.85  1569.521429   \n",
       "94           -54.9  1419.888750     1511.13     1511.13  1569.535000   \n",
       "95           -84.4  1411.941250     1496.18     1496.18  1568.481905   \n",
       "\n",
       "    Target_Price_Prediction  \n",
       "91              1487.071045  \n",
       "92              1537.908936  \n",
       "93              1472.696289  \n",
       "94              1444.117188  \n",
       "95              1291.177979  "
      ]
     },
     "execution_count": 32,
     "metadata": {},
     "output_type": "execute_result"
    }
   ],
   "source": [
    "result4.tail()"
   ]
  },
  {
   "cell_type": "code",
   "execution_count": 33,
   "metadata": {},
   "outputs": [
    {
     "data": {
      "text/plain": [
       "(96, 12)"
      ]
     },
     "execution_count": 33,
     "metadata": {},
     "output_type": "execute_result"
    }
   ],
   "source": [
    "result4.shape"
   ]
  },
  {
   "cell_type": "markdown",
   "metadata": {},
   "source": [
    "- Saving the results to excel file"
   ]
  },
  {
   "cell_type": "code",
   "execution_count": 34,
   "metadata": {},
   "outputs": [],
   "source": [
    "result4.to_excel('electricity_price_XGBoost4_predictions1.xlsx')"
   ]
  },
  {
   "cell_type": "markdown",
   "metadata": {},
   "source": [
    "                                            # Thank you"
   ]
  }
 ],
 "metadata": {
  "kernelspec": {
   "display_name": "Python 3",
   "language": "python",
   "name": "python3"
  },
  "language_info": {
   "codemirror_mode": {
    "name": "ipython",
    "version": 3
   },
   "file_extension": ".py",
   "mimetype": "text/x-python",
   "name": "python",
   "nbconvert_exporter": "python",
   "pygments_lexer": "ipython3",
   "version": "3.8.3"
  }
 },
 "nbformat": 4,
 "nbformat_minor": 4
}
